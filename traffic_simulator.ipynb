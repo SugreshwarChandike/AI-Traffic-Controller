{
  "nbformat": 4,
  "nbformat_minor": 0,
  "metadata": {
    "colab": {
      "provenance": [],
      "authorship_tag": "ABX9TyNK2SeEp1ilLyzKatc5x5BM",
      "include_colab_link": true
    },
    "kernelspec": {
      "name": "python3",
      "display_name": "Python 3"
    },
    "language_info": {
      "name": "python"
    }
  },
  "cells": [
    {
      "cell_type": "markdown",
      "metadata": {
        "id": "view-in-github",
        "colab_type": "text"
      },
      "source": [
        "<a href=\"https://colab.research.google.com/github/SugreshwarChandike/AI-Traffic-Controller/blob/main/traffic_simulator.ipynb\" target=\"_parent\"><img src=\"https://colab.research.google.com/assets/colab-badge.svg\" alt=\"Open In Colab\"/></a>"
      ]
    },
    {
      "cell_type": "markdown",
      "source": [
        "***Setup***"
      ],
      "metadata": {
        "id": "uyGrVyilSFC1"
      }
    },
    {
      "cell_type": "code",
      "execution_count": 4,
      "metadata": {
        "id": "5GZo_cjJPPrF"
      },
      "outputs": [],
      "source": [
        "# Import libraries\n",
        "import random\n",
        "import matplotlib.pyplot as plt"
      ]
    },
    {
      "cell_type": "markdown",
      "source": [
        "***Simulate traffic***"
      ],
      "metadata": {
        "id": "uY6N7LtWR91S"
      }
    },
    {
      "cell_type": "code",
      "source": [
        "# Simulate number of cars in each lane\n",
        "lane_1 = random.randint(0, 20)\n",
        "lane_2 = random.randint(0, 20)\n",
        "\n",
        "print(f\"Lane 1 cars: {lane_1}\")\n",
        "print(f\"Lane 2 cars: {lane_2}\")"
      ],
      "metadata": {
        "colab": {
          "base_uri": "https://localhost:8080/"
        },
        "id": "Gq2j5yGoRFa7",
        "outputId": "b9af09e5-1bca-4aae-b126-f84a2350a29d"
      },
      "execution_count": 3,
      "outputs": [
        {
          "output_type": "stream",
          "name": "stdout",
          "text": [
            "Lane 1 cars: 19\n",
            "Lane 2 cars: 14\n"
          ]
        }
      ]
    },
    {
      "cell_type": "markdown",
      "source": [
        "***Emergency Detection***"
      ],
      "metadata": {
        "id": "LGuGx-J_R3Jp"
      }
    },
    {
      "cell_type": "code",
      "source": [
        "# Simulate emergency vehicle detection\n",
        "emergency_detected = random.choice([True, False])\n",
        "if emergency_detected:\n",
        "    print(\"🚨 Emergency vehicle detected! Giving priority.\")"
      ],
      "metadata": {
        "id": "zwNFZrrKRH5Y"
      },
      "execution_count": null,
      "outputs": []
    },
    {
      "cell_type": "markdown",
      "source": [
        "***Decicion Logic***"
      ],
      "metadata": {
        "id": "YSNlTf42RyEW"
      }
    },
    {
      "cell_type": "code",
      "source": [
        "# Decide which lane gets green light\n",
        "def decide_light(l1, l2, emergency):\n",
        "    if emergency:\n",
        "        return \"Green for emergency lane\"\n",
        "    elif l1 > l2:\n",
        "        return \"Green for Lane 1\"\n",
        "    elif l2 > l1:\n",
        "        return \"Green for Lane 2\"\n",
        "    else:\n",
        "        return \"Equal traffic. Alternate lanes.\"\n",
        "\n",
        "decision = decide_light(lane_1, lane_2, emergency_detected)\n",
        "print(f\"🟢 Decision: {decision}\")"
      ],
      "metadata": {
        "id": "cXq63l_WRQNd"
      },
      "execution_count": null,
      "outputs": []
    },
    {
      "cell_type": "markdown",
      "source": [
        "***VIsualize Traffic Lights***"
      ],
      "metadata": {
        "id": "XOoB3xk2Rhlf"
      }
    },
    {
      "cell_type": "code",
      "source": [
        "# Visualize decision\n",
        "colors = ['red', 'green']\n",
        "if decision == \"Green for Lane 1\":\n",
        "    plt.bar(['Lane 1', 'Lane 2'], [1, 0], color=colors)\n",
        "elif decision == \"Green for Lane 2\":\n",
        "    plt.bar(['Lane 1', 'Lane 2'], [0, 1], color=colors)\n",
        "else:\n",
        "    plt.bar(['Lane 1', 'Lane 2'], [1, 1], color=colors)\n",
        "\n",
        "plt.title(\"Traffic Light Simulation\")\n",
        "plt.ylabel(\"Green Light Status\")\n",
        "plt.show()"
      ],
      "metadata": {
        "id": "NT7Apk4rRSSn"
      },
      "execution_count": null,
      "outputs": []
    }
  ]
}
{
  "cells": [
    {
      "cell_type": "markdown",
      "metadata": {
        "id": "view-in-github",
        "colab_type": "text"
      },
      "source": [
        "<a href=\"https://colab.research.google.com/github/SugreshwarChandike/AI-Traffic-Controller/blob/main/Simulation%20Mode/simulation/traffic_simulator.ipynb\" target=\"_parent\"><img src=\"https://colab.research.google.com/assets/colab-badge.svg\" alt=\"Open In Colab\"/></a>"
      ]
    },
    {
      "cell_type": "markdown",
      "source": [
        "**Setup**"
      ],
      "metadata": {
        "id": "J9ssN9HUN3GF"
      }
    },
    {
      "cell_type": "code",
      "source": [
        "# Import libraries\n",
        "import random\n",
        "import matplotlib.pyplot as plt"
      ],
      "metadata": {
        "id": "cXFFvpdXOAad"
      },
      "execution_count": null,
      "outputs": []
    },
    {
      "cell_type": "markdown",
      "source": [
        "**Simulate traffic**"
      ],
      "metadata": {
        "id": "eIaFsRNpOLTX"
      }
    },
    {
      "cell_type": "code",
      "source": [
        "import pandas as pd\n",
        "\n",
        "# Load the traffic data\n",
        "df = pd.read_csv('sample_traffic.csv')\n",
        "print(df)\n",
        "  # Simulate number of cars in each lane\n",
        "lane_1 = random.randint(0, 20)\n",
        "lane_2 = random.randint(0, 20)\n",
        "\n",
        "print(f\"Lane 1 cars: {lane_1}\")\n",
        "print(f\"Lane 2 cars: {lane_2}\")"
      ],
      "metadata": {
        "id": "eUWQ_LzhOOjK"
      },
      "execution_count": null,
      "outputs": []
    },
    {
      "cell_type": "markdown",
      "source": [
        "**Emergency Detection**"
      ],
      "metadata": {
        "id": "x6sYRSAnOYDe"
      }
    },
    {
      "cell_type": "code",
      "source": [
        "# Simulate emergency vehicle detection\n",
        "emergency_detected = random.choice([False, True])\n",
        "if emergency_detected:\n",
        "    print(\"🚨 Emergency vehicle detected! Giving priority.\")"
      ],
      "metadata": {
        "id": "FX7IGaDiOelY"
      },
      "execution_count": null,
      "outputs": []
    },
    {
      "cell_type": "markdown",
      "source": [
        "**Decicion Logic**"
      ],
      "metadata": {
        "id": "KuKUX3uoOhaj"
      }
    },
    {
      "cell_type": "code",
      "source": [
        "# Decide which lane gets green light\n",
        "def decide_light(l1, l2, emergency, emergency_lane=None):\n",
        "    if emergency and emergency_lane:\n",
        "        return f\"Green for {emergency_lane} (Emergency)\"\n",
        "    elif l1 > l2:\n",
        "        return \"Green for Lane 1\"\n",
        "    elif l2 > l1:\n",
        "        return \"Green for Lane 2\"\n",
        "    else:\n",
        "        return \"Equal traffic. Alternate lanes.\"\n",
        "\n",
        "emergency_lane = None\n",
        "if emergency_detected:\n",
        "    emergency_lane = random.choice([\"Lane 1\", \"Lane 2\"])\n",
        "\n",
        "decision = decide_light(lane_1, lane_2, emergency_detected, emergency_lane)\n",
        "print(f\"🟢 Decision: {decision}\")"
      ],
      "metadata": {
        "id": "l4Nkf5lAOm-W"
      },
      "execution_count": null,
      "outputs": []
    },
    {
      "cell_type": "markdown",
      "source": [
        "VIsualize Traffic Lights"
      ],
      "metadata": {
        "id": "J8OLSzeBOpiJ"
      }
    },
    {
      "cell_type": "code",
      "source": [
        "# Decide which lane gets green light\n",
        "def decide_light(l1, l2, emergency, emergency_lane=None):\n",
        "    if emergency and emergency_lane:\n",
        "        return f\"Green for {emergency_lane} (Emergency)\"\n",
        "    elif l1 > l2:\n",
        "        return \"Green for Lane 1\"\n",
        "    elif l2 > l1:\n",
        "        return \"Green for Lane 2\"\n",
        "    else:\n",
        "        return \"Equal traffic. Alternate lanes.\"\n",
        "\n",
        "emergency_lane = None\n",
        "if emergency_detected:\n",
        "    emergency_lane = random.choice([\"Lane 1\", \"Lane 2\"])\n",
        "\n",
        "decision = decide_light(lane_1, lane_2, emergency_detected, emergency_lane)\n",
        "print(f\"🟢 Decision: {decision}\")\n",
        "\n",
        "# Visualize decision\n",
        "colors = ['red', 'green']\n",
        "if decision == \"Green for Lane 1\":\n",
        "    plt.bar(['Lane 1', 'Lane 2'], [1, 1], color=[colors[1], colors[0]])\n",
        "elif decision == \"Green for Lane 2\":\n",
        "    plt.bar(['Lane 1', 'Lane 2'], [1, 1], color=[colors[0], colors[1]])\n",
        "elif decision == \"Green for Lane 1 (Emergency)\":\n",
        "    plt.bar(['Lane 1', 'Lane 2'], [1, 1], color=[colors[1], colors[0]])\n",
        "elif decision == \"Green for Lane 2 (Emergency)\":\n",
        "    plt.bar(['Lane 1', 'Lane 2'], [1, 1], color=[colors[0], colors[1]])\n",
        "else:\n",
        "    plt.bar(['Lane 1', 'Lane 2'], [1, 1], color=[colors[1], colors[1]]) # Assuming both get green or alternate which can be represented as both green\n",
        "\n",
        "plt.title(\"Traffic Light Simulation\")\n",
        "plt.ylabel(\"Green Light Status\")\n",
        "plt.yticks([]) # Hide y-axis labels for cleaner look\n",
        "plt.show()"
      ],
      "metadata": {
        "id": "CNCt6uXvOqM7"
      },
      "execution_count": null,
      "outputs": []
    }
  ],
  "metadata": {
    "colab": {
      "name": "Welcome To Colab",
      "provenance": [],
      "include_colab_link": true
    },
    "kernelspec": {
      "display_name": "Python 3",
      "name": "python3"
    }
  },
  "nbformat": 4,
  "nbformat_minor": 0
}
{
  "nbformat": 4,
  "nbformat_minor": 0,
  "metadata": {
    "colab": {
      "provenance": [],
      "authorship_tag": "ABX9TyOIOoMCqiSd0xH7J4VcGRrb",
      "include_colab_link": true
    },
    "kernelspec": {
      "name": "python3",
      "display_name": "Python 3"
    },
    "language_info": {
      "name": "python"
    }
  },
  "cells": [
    {
      "cell_type": "markdown",
      "metadata": {
        "id": "view-in-github",
        "colab_type": "text"
      },
      "source": [
        "<a href=\"https://colab.research.google.com/github/SugreshwarChandike/AI-Traffic-Controller/blob/main/traffic_simulator.ipynb\" target=\"_parent\"><img src=\"https://colab.research.google.com/assets/colab-badge.svg\" alt=\"Open In Colab\"/></a>"
      ]
    },
    {
      "cell_type": "markdown",
      "source": [
        "***Setup***"
      ],
      "metadata": {
        "id": "uyGrVyilSFC1"
      }
    },
    {
      "cell_type": "code",
      "execution_count": 1,
      "metadata": {
        "id": "5GZo_cjJPPrF"
      },
      "outputs": [],
      "source": [
        "# Import libraries\n",
        "import random\n",
        "import matplotlib.pyplot as plt"
      ]
    },
    {
      "cell_type": "markdown",
      "source": [
        "***Simulate traffic***"
      ],
      "metadata": {
        "id": "uY6N7LtWR91S"
      }
    },
    {
      "cell_type": "code",
      "source": [
        "import pandas as pd\n",
        "\n",
        "# Load the traffic data\n",
        "df = pd.read_csv('sample_traffic.csv')\n",
        "print(df)"
      ],
      "metadata": {
        "colab": {
          "base_uri": "https://localhost:8080/",
          "height": 0
        },
        "id": "wR9zs3heZCXc",
        "outputId": "0c04425b-55e4-4c91-cd84-aff15c2276a8"
      },
      "execution_count": 2,
      "outputs": [
        {
          "output_type": "stream",
          "name": "stdout",
          "text": [
            "   lane_1  lane_2  emergency\n",
            "0      12       5      False\n",
            "1       8      15       True\n",
            "2      10      10      False\n",
            "3      20       3      False\n",
            "4       5      18       True\n",
            "5       0       0      False\n"
          ]
        }
      ]
    },
    {
      "cell_type": "code",
      "source": [
        "# Simulate number of cars in each lane\n",
        "lane_1 = random.randint(0, 20)\n",
        "lane_2 = random.randint(0, 20)\n",
        "\n",
        "print(f\"Lane 1 cars: {lane_1}\")\n",
        "print(f\"Lane 2 cars: {lane_2}\")"
      ],
      "metadata": {
        "colab": {
          "base_uri": "https://localhost:8080/",
          "height": 0
        },
        "id": "Gq2j5yGoRFa7",
        "outputId": "66f8ca8e-f6ec-4865-971b-5e41b027e5f7"
      },
      "execution_count": 3,
      "outputs": [
        {
          "output_type": "stream",
          "name": "stdout",
          "text": [
            "Lane 1 cars: 8\n",
            "Lane 2 cars: 18\n"
          ]
        }
      ]
    },
    {
      "cell_type": "markdown",
      "source": [
        "***Emergency Detection***"
      ],
      "metadata": {
        "id": "LGuGx-J_R3Jp"
      }
    },
    {
      "cell_type": "code",
      "source": [
        "# Simulate emergency vehicle detection\n",
        "emergency_detected = random.choice([False, True])\n",
        "if emergency_detected:\n",
        "    print(\"🚨 Emergency vehicle detected! Giving priority.\")"
      ],
      "metadata": {
        "colab": {
          "base_uri": "https://localhost:8080/",
          "height": 0
        },
        "id": "zwNFZrrKRH5Y",
        "outputId": "c55c57e0-be7c-44de-99d9-743c1d9ec544"
      },
      "execution_count": 19,
      "outputs": [
        {
          "output_type": "stream",
          "name": "stdout",
          "text": [
            "🚨 Emergency vehicle detected! Giving priority.\n"
          ]
        }
      ]
    },
    {
      "cell_type": "markdown",
      "source": [
        "***Decicion Logic***"
      ],
      "metadata": {
        "id": "YSNlTf42RyEW"
      }
    },
    {
      "cell_type": "code",
      "source": [
        "# Decide which lane gets green light\n",
        "def decide_light(l1, l2, emergency, emergency_lane=None):\n",
        "    if emergency and emergency_lane:\n",
        "        return f\"Green for {emergency_lane} (Emergency)\"\n",
        "    elif l1 > l2:\n",
        "        return \"Green for Lane 1\"\n",
        "    elif l2 > l1:\n",
        "        return \"Green for Lane 2\"\n",
        "    else:\n",
        "        return \"Equal traffic. Alternate lanes.\"\n",
        "\n",
        "emergency_lane = None\n",
        "if emergency_detected:\n",
        "    emergency_lane = random.choice([\"Lane 1\", \"Lane 2\"])\n",
        "\n",
        "decision = decide_light(lane_1, lane_2, emergency_detected, emergency_lane)\n",
        "print(f\"🟢 Decision: {decision}\")"
      ],
      "metadata": {
        "colab": {
          "base_uri": "https://localhost:8080/",
          "height": 0
        },
        "id": "cXq63l_WRQNd",
        "outputId": "8871dc0b-a8c7-43e8-f079-c979cae22367"
      },
      "execution_count": 21,
      "outputs": [
        {
          "output_type": "stream",
          "name": "stdout",
          "text": [
            "🟢 Decision: Green for Lane 2 (Emergency)\n"
          ]
        }
      ]
    },
    {
      "cell_type": "markdown",
      "source": [
        "***VIsualize Traffic Lights***"
      ],
      "metadata": {
        "id": "XOoB3xk2Rhlf"
      }
    },
    {
      "cell_type": "code",
      "source": [
        "# Visualize decision\n",
        "colors = ['red', 'green']\n",
        "if decision == \"Green for Lane 1\":\n",
        "    plt.bar(['Lane 1', 'Lane 2'], [1, 1], color=[colors[1], colors[0]])\n",
        "elif decision == \"Green for Lane 2\":\n",
        "    plt.bar(['Lane 1', 'Lane 2'], [1, 1], color=[colors[0], colors[1]])\n",
        "elif decision == \"Green for Lane 1 (Emergency)\":\n",
        "    plt.bar(['Lane 1', 'Lane 2'], [1, 1], color=[colors[1], colors[0]])\n",
        "elif decision == \"Green for Lane 2 (Emergency)\":\n",
        "    plt.bar(['Lane 1', 'Lane 2'], [1, 1], color=[colors[0], colors[1]])\n",
        "else:\n",
        "    plt.bar(['Lane 1', 'Lane 2'], [1, 1], color=[colors[1], colors[1]]) # Assuming both get green or alternate which can be represented as both green\n",
        "\n",
        "plt.title(\"Traffic Light Simulation\")\n",
        "plt.ylabel(\"Green Light Status\")\n",
        "plt.xticks([]) # Hide x-axis labels for cleaner look\n",
        "plt.yticks([]) # Hide y-axis labels for cleaner look\n",
        "plt.show()"
      ],
      "metadata": {
        "colab": {
          "base_uri": "https://localhost:8080/",
          "height": 428
        },
        "id": "NT7Apk4rRSSn",
        "outputId": "4fcddb15-59f5-423f-b6c1-8b4ad8a1d9ea"
      },
      "execution_count": 22,
      "outputs": [
        {
          "output_type": "display_data",
          "data": {
            "text/plain": [
              "<Figure size 640x480 with 1 Axes>"
            ],
            "image/png": "[encoded data removed]"
          },
          "metadata": {}
        }
      ]
    }
  ]
}
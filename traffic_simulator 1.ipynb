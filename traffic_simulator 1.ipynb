***Setup***

# Import libraries
import random
import matplotlib.pyplot as plt

***Simulate traffic***

import pandas as pd

# Load the traffic data
df = pd.read_csv('sample_traffic.csv')
print(df)

# Simulate number of cars in each lane
lane_1 = random.randint(0, 20)
lane_2 = random.randint(0, 20)

print(f"Lane 1 cars: {lane_1}")
print(f"Lane 2 cars: {lane_2}")

***Emergency Detection***

# Simulate emergency vehicle detection
emergency_detected = random.choice([False, True])
if emergency_detected:
    print("🚨 Emergency vehicle detected! Giving priority.")

***Decicion Logic***

# Decide which lane gets green light
def decide_light(l1, l2, emergency, emergency_lane=None):
    if emergency and emergency_lane:
        return f"Green for {emergency_lane} (Emergency)"
    elif l1 > l2:
        return "Green for Lane 1"
    elif l2 > l1:
        return "Green for Lane 2"
    else:
        return "Equal traffic. Alternate lanes."

emergency_lane = None
if emergency_detected:
    emergency_lane = random.choice(["Lane 1", "Lane 2"])

decision = decide_light(lane_1, lane_2, emergency_detected, emergency_lane)
print(f"🟢 Decision: {decision}")

***VIsualize Traffic Lights***

# Visualize decision
colors = ['red', 'green']
if decision == "Green for Lane 1":
    plt.bar(['Lane 1', 'Lane 2'], [1, 1], color=[colors[1], colors[0]])
elif decision == "Green for Lane 2":
    plt.bar(['Lane 1', 'Lane 2'], [1, 1], color=[colors[0], colors[1]])
elif decision == "Green for Lane 1 (Emergency)":
    plt.bar(['Lane 1', 'Lane 2'], [1, 1], color=[colors[1], colors[0]])
elif decision == "Green for Lane 2 (Emergency)":
    plt.bar(['Lane 1', 'Lane 2'], [1, 1], color=[colors[0], colors[1]])
else:
    plt.bar(['Lane 1', 'Lane 2'], [1, 1], color=[colors[1], colors[1]]) # Assuming both get green or alternate which can be represented as both green

plt.title("Traffic Light Simulation")
plt.ylabel("Green Light Status")
plt.xticks([]) # Hide x-axis labels for cleaner look
plt.yticks([]) # Hide y-axis labels for cleaner look
plt.show()
